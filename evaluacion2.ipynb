{
 "cells": [
  {
   "attachments": {},
   "cell_type": "markdown",
   "metadata": {},
   "source": [
    "- Evaluación de contenido 2 Modulo 2"
   ]
  },
  {
   "attachments": {},
   "cell_type": "markdown",
   "metadata": {},
   "source": [
    "1. Utilizando la API extraed toda la información que podáis de ella. La url para hacer las llamadas es:"
   ]
  },
  {
   "cell_type": "code",
   "execution_count": 1,
   "metadata": {},
   "outputs": [],
   "source": [
    "from IPython.core.interactiveshell import InteractiveShell \n",
    "InteractiveShell.ast_node_interactivity = \"all\" \n",
    "\n",
    "import requests\n",
    "import pandas as pd\n",
    "import numpy as np\n",
    "import seaborn as sns\n",
    "import matplotlib.pyplot as plt\n",
    "from geopy.geocoders import Nominatim\n",
    "import mysql.connector"
   ]
  },
  {
   "cell_type": "code",
   "execution_count": 2,
   "metadata": {},
   "outputs": [
    {
     "data": {
      "text/html": [
       "<div>\n",
       "<style scoped>\n",
       "    .dataframe tbody tr th:only-of-type {\n",
       "        vertical-align: middle;\n",
       "    }\n",
       "\n",
       "    .dataframe tbody tr th {\n",
       "        vertical-align: top;\n",
       "    }\n",
       "\n",
       "    .dataframe thead th {\n",
       "        text-align: right;\n",
       "    }\n",
       "</style>\n",
       "<table border=\"1\" class=\"dataframe\">\n",
       "  <thead>\n",
       "    <tr style=\"text-align: right;\">\n",
       "      <th></th>\n",
       "      <th>state-province</th>\n",
       "      <th>domains</th>\n",
       "      <th>name</th>\n",
       "      <th>country</th>\n",
       "      <th>web_pages</th>\n",
       "      <th>alpha_two_code</th>\n",
       "    </tr>\n",
       "  </thead>\n",
       "  <tbody>\n",
       "    <tr>\n",
       "      <th>0</th>\n",
       "      <td>Buenos Aires</td>\n",
       "      <td>[atlantida.edu.ar]</td>\n",
       "      <td>Universidad Atlantida Argentina</td>\n",
       "      <td>Argentina</td>\n",
       "      <td>[http://www.atlantida.edu.ar/]</td>\n",
       "      <td>AR</td>\n",
       "    </tr>\n",
       "    <tr>\n",
       "      <th>1</th>\n",
       "      <td>Buenos Aires</td>\n",
       "      <td>[austral.edu.ar]</td>\n",
       "      <td>Universidad Austral Buenos Aires</td>\n",
       "      <td>Argentina</td>\n",
       "      <td>[http://www.austral.edu.ar/]</td>\n",
       "      <td>AR</td>\n",
       "    </tr>\n",
       "    <tr>\n",
       "      <th>2</th>\n",
       "      <td>Ciudad Autónoma de Buenos Aires</td>\n",
       "      <td>[caece.edu.ar]</td>\n",
       "      <td>Universidad CAECE, Buenos Aires</td>\n",
       "      <td>Argentina</td>\n",
       "      <td>[http://www.caece.edu.ar/]</td>\n",
       "      <td>AR</td>\n",
       "    </tr>\n",
       "    <tr>\n",
       "      <th>3</th>\n",
       "      <td>Ciudad Autónoma de Buenos Aires</td>\n",
       "      <td>[cema.edu.ar]</td>\n",
       "      <td>Instituto Universitario CEMA</td>\n",
       "      <td>Argentina</td>\n",
       "      <td>[http://www.cema.edu.ar/]</td>\n",
       "      <td>AR</td>\n",
       "    </tr>\n",
       "    <tr>\n",
       "      <th>4</th>\n",
       "      <td>Ciudad Autónoma de Buenos Aires</td>\n",
       "      <td>[iese.edu.ar]</td>\n",
       "      <td>Instituto de Enseñanza Superior del Ejército</td>\n",
       "      <td>Argentina</td>\n",
       "      <td>[http://www.iese.edu.ar/]</td>\n",
       "      <td>AR</td>\n",
       "    </tr>\n",
       "    <tr>\n",
       "      <th>...</th>\n",
       "      <td>...</td>\n",
       "      <td>...</td>\n",
       "      <td>...</td>\n",
       "      <td>...</td>\n",
       "      <td>...</td>\n",
       "      <td>...</td>\n",
       "    </tr>\n",
       "    <tr>\n",
       "      <th>2276</th>\n",
       "      <td>None</td>\n",
       "      <td>[vul.edu]</td>\n",
       "      <td>Virginia University of Lynchburg</td>\n",
       "      <td>United States</td>\n",
       "      <td>[https://www.vul.edu/]</td>\n",
       "      <td>US</td>\n",
       "    </tr>\n",
       "    <tr>\n",
       "      <th>2277</th>\n",
       "      <td>None</td>\n",
       "      <td>[voorhees.edu]</td>\n",
       "      <td>Voorhees University</td>\n",
       "      <td>United States</td>\n",
       "      <td>[https://www.voorhees.edu/]</td>\n",
       "      <td>US</td>\n",
       "    </tr>\n",
       "    <tr>\n",
       "      <th>2278</th>\n",
       "      <td>None</td>\n",
       "      <td>[wvstate.edu]</td>\n",
       "      <td>West Virginia State University</td>\n",
       "      <td>United States</td>\n",
       "      <td>[https://www.wvstateu.edu/]</td>\n",
       "      <td>US</td>\n",
       "    </tr>\n",
       "    <tr>\n",
       "      <th>2279</th>\n",
       "      <td>None</td>\n",
       "      <td>[wileyc.edu]</td>\n",
       "      <td>Wiley College</td>\n",
       "      <td>United States</td>\n",
       "      <td>[https://www.wileyc.edu/]</td>\n",
       "      <td>US</td>\n",
       "    </tr>\n",
       "    <tr>\n",
       "      <th>2280</th>\n",
       "      <td>None</td>\n",
       "      <td>[wssu.edu]</td>\n",
       "      <td>Winston-Salem State University</td>\n",
       "      <td>United States</td>\n",
       "      <td>[https://www.wssu.edu/]</td>\n",
       "      <td>US</td>\n",
       "    </tr>\n",
       "  </tbody>\n",
       "</table>\n",
       "<p>2522 rows × 6 columns</p>\n",
       "</div>"
      ],
      "text/plain": [
       "                       state-province             domains  \\\n",
       "0                        Buenos Aires  [atlantida.edu.ar]   \n",
       "1                        Buenos Aires    [austral.edu.ar]   \n",
       "2     Ciudad Autónoma de Buenos Aires      [caece.edu.ar]   \n",
       "3     Ciudad Autónoma de Buenos Aires       [cema.edu.ar]   \n",
       "4     Ciudad Autónoma de Buenos Aires       [iese.edu.ar]   \n",
       "...                               ...                 ...   \n",
       "2276                             None           [vul.edu]   \n",
       "2277                             None      [voorhees.edu]   \n",
       "2278                             None       [wvstate.edu]   \n",
       "2279                             None        [wileyc.edu]   \n",
       "2280                             None          [wssu.edu]   \n",
       "\n",
       "                                              name        country  \\\n",
       "0                  Universidad Atlantida Argentina      Argentina   \n",
       "1                 Universidad Austral Buenos Aires      Argentina   \n",
       "2                  Universidad CAECE, Buenos Aires      Argentina   \n",
       "3                     Instituto Universitario CEMA      Argentina   \n",
       "4     Instituto de Enseñanza Superior del Ejército      Argentina   \n",
       "...                                            ...            ...   \n",
       "2276              Virginia University of Lynchburg  United States   \n",
       "2277                           Voorhees University  United States   \n",
       "2278                West Virginia State University  United States   \n",
       "2279                                 Wiley College  United States   \n",
       "2280                Winston-Salem State University  United States   \n",
       "\n",
       "                           web_pages alpha_two_code  \n",
       "0     [http://www.atlantida.edu.ar/]             AR  \n",
       "1       [http://www.austral.edu.ar/]             AR  \n",
       "2         [http://www.caece.edu.ar/]             AR  \n",
       "3          [http://www.cema.edu.ar/]             AR  \n",
       "4          [http://www.iese.edu.ar/]             AR  \n",
       "...                              ...            ...  \n",
       "2276          [https://www.vul.edu/]             US  \n",
       "2277     [https://www.voorhees.edu/]             US  \n",
       "2278     [https://www.wvstateu.edu/]             US  \n",
       "2279       [https://www.wileyc.edu/]             US  \n",
       "2280         [https://www.wssu.edu/]             US  \n",
       "\n",
       "[2522 rows x 6 columns]"
      ]
     },
     "execution_count": 2,
     "metadata": {},
     "output_type": "execute_result"
    }
   ],
   "source": [
    "\n",
    "paises = (\"Argentina\", \"Canada\", \"United States\")\n",
    "datos_paises={}\n",
    "for pais in  paises:\n",
    "    url = f\"http://universities.hipolabs.com/search?country={pais}\"\n",
    "    response=requests.get(url=url)\n",
    "    datos_universidades=pd.DataFrame(response.json())\n",
    "    datos_paises[pais]=datos_universidades\n",
    "    \n",
    "for pais, datos in datos_paises.items():\n",
    " \n",
    "    argentina_df = datos_paises[\"Argentina\"]\n",
    "    canada_df = datos_paises[\"Canada\"]\n",
    "    usa_df = datos_paises[\"United States\"]\n",
    "   \n",
    "df_unis = pd.concat([argentina_df,canada_df , usa_df],axis =0)\n",
    "df_unis  \n",
    "   "
   ]
  },
  {
   "attachments": {},
   "cell_type": "markdown",
   "metadata": {},
   "source": [
    "2. Una vez tengáis todos los datos de la API, deberéis realizar una serie de procesos de limpieza, estos incluyen:"
   ]
  },
  {
   "attachments": {},
   "cell_type": "markdown",
   "metadata": {},
   "source": [
    "- Cambiad los nombres de las columnas para homogeneizarlas, tenemos columnas que tienen - y otras _. Unifícalo para que todo vaya con _."
   ]
  },
  {
   "cell_type": "code",
   "execution_count": 3,
   "metadata": {},
   "outputs": [
    {
     "data": {
      "text/html": [
       "<div>\n",
       "<style scoped>\n",
       "    .dataframe tbody tr th:only-of-type {\n",
       "        vertical-align: middle;\n",
       "    }\n",
       "\n",
       "    .dataframe tbody tr th {\n",
       "        vertical-align: top;\n",
       "    }\n",
       "\n",
       "    .dataframe thead th {\n",
       "        text-align: right;\n",
       "    }\n",
       "</style>\n",
       "<table border=\"1\" class=\"dataframe\">\n",
       "  <thead>\n",
       "    <tr style=\"text-align: right;\">\n",
       "      <th></th>\n",
       "      <th>state_province</th>\n",
       "      <th>domains</th>\n",
       "      <th>name</th>\n",
       "      <th>country</th>\n",
       "      <th>web_pages</th>\n",
       "      <th>alpha_two_code</th>\n",
       "    </tr>\n",
       "  </thead>\n",
       "  <tbody>\n",
       "    <tr>\n",
       "      <th>0</th>\n",
       "      <td>Buenos Aires</td>\n",
       "      <td>[atlantida.edu.ar]</td>\n",
       "      <td>Universidad Atlantida Argentina</td>\n",
       "      <td>Argentina</td>\n",
       "      <td>[http://www.atlantida.edu.ar/]</td>\n",
       "      <td>AR</td>\n",
       "    </tr>\n",
       "    <tr>\n",
       "      <th>1</th>\n",
       "      <td>Buenos Aires</td>\n",
       "      <td>[austral.edu.ar]</td>\n",
       "      <td>Universidad Austral Buenos Aires</td>\n",
       "      <td>Argentina</td>\n",
       "      <td>[http://www.austral.edu.ar/]</td>\n",
       "      <td>AR</td>\n",
       "    </tr>\n",
       "    <tr>\n",
       "      <th>2</th>\n",
       "      <td>Ciudad Autónoma de Buenos Aires</td>\n",
       "      <td>[caece.edu.ar]</td>\n",
       "      <td>Universidad CAECE, Buenos Aires</td>\n",
       "      <td>Argentina</td>\n",
       "      <td>[http://www.caece.edu.ar/]</td>\n",
       "      <td>AR</td>\n",
       "    </tr>\n",
       "    <tr>\n",
       "      <th>3</th>\n",
       "      <td>Ciudad Autónoma de Buenos Aires</td>\n",
       "      <td>[cema.edu.ar]</td>\n",
       "      <td>Instituto Universitario CEMA</td>\n",
       "      <td>Argentina</td>\n",
       "      <td>[http://www.cema.edu.ar/]</td>\n",
       "      <td>AR</td>\n",
       "    </tr>\n",
       "    <tr>\n",
       "      <th>4</th>\n",
       "      <td>Ciudad Autónoma de Buenos Aires</td>\n",
       "      <td>[iese.edu.ar]</td>\n",
       "      <td>Instituto de Enseñanza Superior del Ejército</td>\n",
       "      <td>Argentina</td>\n",
       "      <td>[http://www.iese.edu.ar/]</td>\n",
       "      <td>AR</td>\n",
       "    </tr>\n",
       "  </tbody>\n",
       "</table>\n",
       "</div>"
      ],
      "text/plain": [
       "                    state_province             domains  \\\n",
       "0                     Buenos Aires  [atlantida.edu.ar]   \n",
       "1                     Buenos Aires    [austral.edu.ar]   \n",
       "2  Ciudad Autónoma de Buenos Aires      [caece.edu.ar]   \n",
       "3  Ciudad Autónoma de Buenos Aires       [cema.edu.ar]   \n",
       "4  Ciudad Autónoma de Buenos Aires       [iese.edu.ar]   \n",
       "\n",
       "                                           name    country  \\\n",
       "0               Universidad Atlantida Argentina  Argentina   \n",
       "1              Universidad Austral Buenos Aires  Argentina   \n",
       "2               Universidad CAECE, Buenos Aires  Argentina   \n",
       "3                  Instituto Universitario CEMA  Argentina   \n",
       "4  Instituto de Enseñanza Superior del Ejército  Argentina   \n",
       "\n",
       "                        web_pages alpha_two_code  \n",
       "0  [http://www.atlantida.edu.ar/]             AR  \n",
       "1    [http://www.austral.edu.ar/]             AR  \n",
       "2      [http://www.caece.edu.ar/]             AR  \n",
       "3       [http://www.cema.edu.ar/]             AR  \n",
       "4       [http://www.iese.edu.ar/]             AR  "
      ]
     },
     "execution_count": 3,
     "metadata": {},
     "output_type": "execute_result"
    }
   ],
   "source": [
    "nuevas_columnas = {col: col.replace(\"-\", \"_\").lower() for col in df_unis.columns}\n",
    "df_unis.rename(columns = nuevas_columnas, inplace = True)\n",
    "df_unis.head(5)"
   ]
  },
  {
   "attachments": {},
   "cell_type": "markdown",
   "metadata": {},
   "source": [
    "- La columna de domains nos da una información similar a la de web_pages. Eliminad la columna domains."
   ]
  },
  {
   "cell_type": "code",
   "execution_count": 4,
   "metadata": {},
   "outputs": [],
   "source": [
    "df_unis.drop([\"domains\"], axis = 1, inplace = True)\n"
   ]
  },
  {
   "cell_type": "code",
   "execution_count": 5,
   "metadata": {},
   "outputs": [
    {
     "data": {
      "text/html": [
       "<div>\n",
       "<style scoped>\n",
       "    .dataframe tbody tr th:only-of-type {\n",
       "        vertical-align: middle;\n",
       "    }\n",
       "\n",
       "    .dataframe tbody tr th {\n",
       "        vertical-align: top;\n",
       "    }\n",
       "\n",
       "    .dataframe thead th {\n",
       "        text-align: right;\n",
       "    }\n",
       "</style>\n",
       "<table border=\"1\" class=\"dataframe\">\n",
       "  <thead>\n",
       "    <tr style=\"text-align: right;\">\n",
       "      <th></th>\n",
       "      <th>state_province</th>\n",
       "      <th>name</th>\n",
       "      <th>country</th>\n",
       "      <th>web_pages</th>\n",
       "      <th>alpha_two_code</th>\n",
       "    </tr>\n",
       "  </thead>\n",
       "  <tbody>\n",
       "    <tr>\n",
       "      <th>0</th>\n",
       "      <td>Buenos Aires</td>\n",
       "      <td>Universidad Atlantida Argentina</td>\n",
       "      <td>Argentina</td>\n",
       "      <td>[http://www.atlantida.edu.ar/]</td>\n",
       "      <td>AR</td>\n",
       "    </tr>\n",
       "    <tr>\n",
       "      <th>1</th>\n",
       "      <td>Buenos Aires</td>\n",
       "      <td>Universidad Austral Buenos Aires</td>\n",
       "      <td>Argentina</td>\n",
       "      <td>[http://www.austral.edu.ar/]</td>\n",
       "      <td>AR</td>\n",
       "    </tr>\n",
       "    <tr>\n",
       "      <th>2</th>\n",
       "      <td>Ciudad Autónoma de Buenos Aires</td>\n",
       "      <td>Universidad CAECE, Buenos Aires</td>\n",
       "      <td>Argentina</td>\n",
       "      <td>[http://www.caece.edu.ar/]</td>\n",
       "      <td>AR</td>\n",
       "    </tr>\n",
       "  </tbody>\n",
       "</table>\n",
       "</div>"
      ],
      "text/plain": [
       "                    state_province                              name  \\\n",
       "0                     Buenos Aires   Universidad Atlantida Argentina   \n",
       "1                     Buenos Aires  Universidad Austral Buenos Aires   \n",
       "2  Ciudad Autónoma de Buenos Aires   Universidad CAECE, Buenos Aires   \n",
       "\n",
       "     country                       web_pages alpha_two_code  \n",
       "0  Argentina  [http://www.atlantida.edu.ar/]             AR  \n",
       "1  Argentina    [http://www.austral.edu.ar/]             AR  \n",
       "2  Argentina      [http://www.caece.edu.ar/]             AR  "
      ]
     },
     "execution_count": 5,
     "metadata": {},
     "output_type": "execute_result"
    }
   ],
   "source": [
    "df_unis.head(3)"
   ]
  },
  {
   "cell_type": "code",
   "execution_count": 6,
   "metadata": {},
   "outputs": [
    {
     "data": {
      "text/html": [
       "<div>\n",
       "<style scoped>\n",
       "    .dataframe tbody tr th:only-of-type {\n",
       "        vertical-align: middle;\n",
       "    }\n",
       "\n",
       "    .dataframe tbody tr th {\n",
       "        vertical-align: top;\n",
       "    }\n",
       "\n",
       "    .dataframe thead th {\n",
       "        text-align: right;\n",
       "    }\n",
       "</style>\n",
       "<table border=\"1\" class=\"dataframe\">\n",
       "  <thead>\n",
       "    <tr style=\"text-align: right;\">\n",
       "      <th></th>\n",
       "      <th>state_province</th>\n",
       "      <th>name</th>\n",
       "      <th>country</th>\n",
       "      <th>web_pages</th>\n",
       "      <th>alpha_two_code</th>\n",
       "    </tr>\n",
       "  </thead>\n",
       "  <tbody>\n",
       "    <tr>\n",
       "      <th>2276</th>\n",
       "      <td>None</td>\n",
       "      <td>Virginia University of Lynchburg</td>\n",
       "      <td>United States</td>\n",
       "      <td>[https://www.vul.edu/]</td>\n",
       "      <td>US</td>\n",
       "    </tr>\n",
       "    <tr>\n",
       "      <th>2277</th>\n",
       "      <td>None</td>\n",
       "      <td>Voorhees University</td>\n",
       "      <td>United States</td>\n",
       "      <td>[https://www.voorhees.edu/]</td>\n",
       "      <td>US</td>\n",
       "    </tr>\n",
       "    <tr>\n",
       "      <th>2278</th>\n",
       "      <td>None</td>\n",
       "      <td>West Virginia State University</td>\n",
       "      <td>United States</td>\n",
       "      <td>[https://www.wvstateu.edu/]</td>\n",
       "      <td>US</td>\n",
       "    </tr>\n",
       "    <tr>\n",
       "      <th>2279</th>\n",
       "      <td>None</td>\n",
       "      <td>Wiley College</td>\n",
       "      <td>United States</td>\n",
       "      <td>[https://www.wileyc.edu/]</td>\n",
       "      <td>US</td>\n",
       "    </tr>\n",
       "    <tr>\n",
       "      <th>2280</th>\n",
       "      <td>None</td>\n",
       "      <td>Winston-Salem State University</td>\n",
       "      <td>United States</td>\n",
       "      <td>[https://www.wssu.edu/]</td>\n",
       "      <td>US</td>\n",
       "    </tr>\n",
       "  </tbody>\n",
       "</table>\n",
       "</div>"
      ],
      "text/plain": [
       "     state_province                              name        country  \\\n",
       "2276           None  Virginia University of Lynchburg  United States   \n",
       "2277           None               Voorhees University  United States   \n",
       "2278           None    West Virginia State University  United States   \n",
       "2279           None                     Wiley College  United States   \n",
       "2280           None    Winston-Salem State University  United States   \n",
       "\n",
       "                        web_pages alpha_two_code  \n",
       "2276       [https://www.vul.edu/]             US  \n",
       "2277  [https://www.voorhees.edu/]             US  \n",
       "2278  [https://www.wvstateu.edu/]             US  \n",
       "2279    [https://www.wileyc.edu/]             US  \n",
       "2280      [https://www.wssu.edu/]             US  "
      ]
     },
     "execution_count": 6,
     "metadata": {},
     "output_type": "execute_result"
    }
   ],
   "source": [
    "df_unis.tail()"
   ]
  },
  {
   "attachments": {},
   "cell_type": "markdown",
   "metadata": {},
   "source": [
    "3. Si exploramos la columna de web_pages, nos daremos cuenta que hay universidades, como por ejemplo la Universidad de \"Cégep de Saint-Jérôme\" de Canadá que en su columna de web_pages tiene más de un valor dentro de la lista. Esto es poco práctico y puede llegar a no tener sentido. el objetivo de este ejericio es que usando el método explode de pandas separéis cada elemento de la lista en una fila nueva. "
   ]
  },
  {
   "cell_type": "code",
   "execution_count": 7,
   "metadata": {},
   "outputs": [],
   "source": [
    "df_unis = df_unis.explode(\"web_pages\")\n"
   ]
  },
  {
   "cell_type": "code",
   "execution_count": 8,
   "metadata": {},
   "outputs": [
    {
     "data": {
      "text/html": [
       "<div>\n",
       "<style scoped>\n",
       "    .dataframe tbody tr th:only-of-type {\n",
       "        vertical-align: middle;\n",
       "    }\n",
       "\n",
       "    .dataframe tbody tr th {\n",
       "        vertical-align: top;\n",
       "    }\n",
       "\n",
       "    .dataframe thead th {\n",
       "        text-align: right;\n",
       "    }\n",
       "</style>\n",
       "<table border=\"1\" class=\"dataframe\">\n",
       "  <thead>\n",
       "    <tr style=\"text-align: right;\">\n",
       "      <th></th>\n",
       "      <th>state_province</th>\n",
       "      <th>name</th>\n",
       "      <th>country</th>\n",
       "      <th>web_pages</th>\n",
       "      <th>alpha_two_code</th>\n",
       "    </tr>\n",
       "  </thead>\n",
       "  <tbody>\n",
       "    <tr>\n",
       "      <th>120</th>\n",
       "      <td>Quebec</td>\n",
       "      <td>Université du Québec en Outaouais</td>\n",
       "      <td>Canada</td>\n",
       "      <td>http://www.uqo.ca/</td>\n",
       "      <td>CA</td>\n",
       "    </tr>\n",
       "    <tr>\n",
       "      <th>1007</th>\n",
       "      <td>None</td>\n",
       "      <td>University of Illinois at Chicago</td>\n",
       "      <td>United States</td>\n",
       "      <td>http://www.uic.edu/</td>\n",
       "      <td>US</td>\n",
       "    </tr>\n",
       "    <tr>\n",
       "      <th>1127</th>\n",
       "      <td>None</td>\n",
       "      <td>University of Virginia, Charlottesville</td>\n",
       "      <td>United States</td>\n",
       "      <td>http://www.virginia.edu/</td>\n",
       "      <td>US</td>\n",
       "    </tr>\n",
       "  </tbody>\n",
       "</table>\n",
       "</div>"
      ],
      "text/plain": [
       "     state_province                                     name        country  \\\n",
       "120          Quebec        Université du Québec en Outaouais         Canada   \n",
       "1007           None        University of Illinois at Chicago  United States   \n",
       "1127           None  University of Virginia, Charlottesville  United States   \n",
       "\n",
       "                     web_pages alpha_two_code  \n",
       "120         http://www.uqo.ca/             CA  \n",
       "1007       http://www.uic.edu/             US  \n",
       "1127  http://www.virginia.edu/             US  "
      ]
     },
     "execution_count": 8,
     "metadata": {},
     "output_type": "execute_result"
    }
   ],
   "source": [
    "df_unis.sample(3)"
   ]
  },
  {
   "attachments": {},
   "cell_type": "markdown",
   "metadata": {},
   "source": [
    "4. Una vez hayáis realizado el explode, chequead si tenéis duplicados basándonos unicamente en el nombre de la universidad, en caso de que si, eliminandlos."
   ]
  },
  {
   "cell_type": "code",
   "execution_count": 9,
   "metadata": {},
   "outputs": [
    {
     "data": {
      "text/plain": [
       "28"
      ]
     },
     "execution_count": 9,
     "metadata": {},
     "output_type": "execute_result"
    }
   ],
   "source": [
    "df_unis.duplicated(\"name\").sum()"
   ]
  },
  {
   "cell_type": "code",
   "execution_count": 10,
   "metadata": {},
   "outputs": [
    {
     "data": {
      "text/html": [
       "<div>\n",
       "<style scoped>\n",
       "    .dataframe tbody tr th:only-of-type {\n",
       "        vertical-align: middle;\n",
       "    }\n",
       "\n",
       "    .dataframe tbody tr th {\n",
       "        vertical-align: top;\n",
       "    }\n",
       "\n",
       "    .dataframe thead th {\n",
       "        text-align: right;\n",
       "    }\n",
       "</style>\n",
       "<table border=\"1\" class=\"dataframe\">\n",
       "  <thead>\n",
       "    <tr style=\"text-align: right;\">\n",
       "      <th></th>\n",
       "      <th>state_province</th>\n",
       "      <th>name</th>\n",
       "      <th>country</th>\n",
       "      <th>web_pages</th>\n",
       "      <th>alpha_two_code</th>\n",
       "    </tr>\n",
       "  </thead>\n",
       "  <tbody>\n",
       "    <tr>\n",
       "      <th>0</th>\n",
       "      <td>Quebec</td>\n",
       "      <td>Cégep de Saint-Jérôme</td>\n",
       "      <td>Canada</td>\n",
       "      <td>https://ccmt.cstj.qc.ca</td>\n",
       "      <td>CA</td>\n",
       "    </tr>\n",
       "    <tr>\n",
       "      <th>0</th>\n",
       "      <td>Quebec</td>\n",
       "      <td>Cégep de Saint-Jérôme</td>\n",
       "      <td>Canada</td>\n",
       "      <td>https://ccml.cstj.qc.ca</td>\n",
       "      <td>CA</td>\n",
       "    </tr>\n",
       "  </tbody>\n",
       "</table>\n",
       "</div>"
      ],
      "text/plain": [
       "  state_province                   name country                web_pages  \\\n",
       "0         Quebec  Cégep de Saint-Jérôme  Canada  https://ccmt.cstj.qc.ca   \n",
       "0         Quebec  Cégep de Saint-Jérôme  Canada  https://ccml.cstj.qc.ca   \n",
       "\n",
       "  alpha_two_code  \n",
       "0             CA  \n",
       "0             CA  "
      ]
     },
     "execution_count": 10,
     "metadata": {},
     "output_type": "execute_result"
    }
   ],
   "source": [
    "df_unis[df_unis.duplicated([\"name\"])].head(2)"
   ]
  },
  {
   "cell_type": "code",
   "execution_count": 11,
   "metadata": {},
   "outputs": [],
   "source": [
    "df_unis.drop_duplicates(subset=[\"name\"], inplace = True)\n"
   ]
  },
  {
   "cell_type": "code",
   "execution_count": 12,
   "metadata": {},
   "outputs": [
    {
     "data": {
      "text/plain": [
       "0"
      ]
     },
     "execution_count": 12,
     "metadata": {},
     "output_type": "execute_result"
    }
   ],
   "source": [
    "df_unis.duplicated(\"name\").sum()"
   ]
  },
  {
   "attachments": {},
   "cell_type": "markdown",
   "metadata": {},
   "source": [
    "5. Si exploramos la columna de state_province veremos que hay universidades cuyo valor para esta columna es None. Cread una función para reemplazar los None por nulos de numpy."
   ]
  },
  {
   "cell_type": "code",
   "execution_count": 13,
   "metadata": {},
   "outputs": [
    {
     "data": {
      "text/plain": [
       "0                          Buenos Aires\n",
       "1                          Buenos Aires\n",
       "2       Ciudad Autónoma de Buenos Aires\n",
       "3       Ciudad Autónoma de Buenos Aires\n",
       "4       Ciudad Autónoma de Buenos Aires\n",
       "                     ...               \n",
       "2276                               None\n",
       "2277                               None\n",
       "2278                               None\n",
       "2279                               None\n",
       "2280                               None\n",
       "Name: state_province, Length: 2507, dtype: object"
      ]
     },
     "execution_count": 13,
     "metadata": {},
     "output_type": "execute_result"
    }
   ],
   "source": [
    "df_unis[\"state_province\"]"
   ]
  },
  {
   "cell_type": "code",
   "execution_count": 14,
   "metadata": {},
   "outputs": [],
   "source": [
    "df_unis[\"state_province\"] = df_unis[\"state_province\"].replace({None:np.nan})"
   ]
  },
  {
   "cell_type": "code",
   "execution_count": 15,
   "metadata": {},
   "outputs": [
    {
     "data": {
      "text/plain": [
       "0                          Buenos Aires\n",
       "1                          Buenos Aires\n",
       "2       Ciudad Autónoma de Buenos Aires\n",
       "3       Ciudad Autónoma de Buenos Aires\n",
       "4       Ciudad Autónoma de Buenos Aires\n",
       "                     ...               \n",
       "2276                                NaN\n",
       "2277                                NaN\n",
       "2278                                NaN\n",
       "2279                                NaN\n",
       "2280                                NaN\n",
       "Name: state_province, Length: 2507, dtype: object"
      ]
     },
     "execution_count": 15,
     "metadata": {},
     "output_type": "execute_result"
    }
   ],
   "source": [
    "df_unis[\"state_province\"]"
   ]
  },
  {
   "attachments": {},
   "cell_type": "markdown",
   "metadata": {},
   "source": [
    "6. Después del último cambio, os habréis dado cuenta que tenemos muchos valores nulos dentro de la columna de state_province, por lo que nuestro jefe nos pide que reemplacemos esos nulos por \"Unknow\". No nos piden ningún método especifico, asi que podremos usar el método que queramos."
   ]
  },
  {
   "cell_type": "code",
   "execution_count": 16,
   "metadata": {},
   "outputs": [],
   "source": [
    "df_unis[\"state_province\"].replace(np.nan, \"Unknow\", inplace = True)"
   ]
  },
  {
   "cell_type": "code",
   "execution_count": 17,
   "metadata": {},
   "outputs": [
    {
     "data": {
      "text/plain": [
       "state_province    0\n",
       "name              0\n",
       "country           0\n",
       "web_pages         0\n",
       "alpha_two_code    0\n",
       "dtype: int64"
      ]
     },
     "execution_count": 17,
     "metadata": {},
     "output_type": "execute_result"
    }
   ],
   "source": [
    "df_unis.isnull().sum()"
   ]
  },
  {
   "attachments": {},
   "cell_type": "markdown",
   "metadata": {},
   "source": [
    "7. Ahora nuestros jefes nos piden que saquemos las coordenadas de las provincias donde están ubicadas las universidades. Para eso nos piden que usemos la librería de geopy que aprendimos el día del repaso,\n",
    "-  Sacar los valores únicos de la columna state_province."
   ]
  },
  {
   "cell_type": "code",
   "execution_count": 18,
   "metadata": {},
   "outputs": [
    {
     "data": {
      "text/plain": [
       "array(['Buenos Aires', 'Ciudad Autónoma de Buenos Aires', 'Entre Ríos',\n",
       "       'Salta', 'Córdoba', 'Mendoza', 'Santa Fé', 'Unknow',\n",
       "       'Santiago Del Estero', 'Misiones', 'Catamarca', 'Formosa', 'Jujuy',\n",
       "       'La Rioja', 'La Pampa', 'San Juan', 'San Luis', 'Tucumán',\n",
       "       'Quebec', 'Ontario', 'Nova Scotia', 'British Columbia', 'Alberta',\n",
       "       'Manitoba', 'New Brunswick', 'Saskatchewan',\n",
       "       'Newfoundland and Labrador', 'Prince Edward Island', 'Yukon',\n",
       "       'Pennsylvania', 'NV', 'Iowa', 'VA', 'TX', 'Colorado', 'IN', 'CA',\n",
       "       'South Carolina', 'Washington', 'NY', 'Texas', 'ND', 'MI', 'Ohio',\n",
       "       'Florida', 'California', 'North Carolina', 'Michigan', 'GA',\n",
       "       'New York, NY'], dtype=object)"
      ]
     },
     "execution_count": 18,
     "metadata": {},
     "output_type": "execute_result"
    }
   ],
   "source": [
    "df_unis[\"state_province\"].unique()"
   ]
  },
  {
   "attachments": {},
   "cell_type": "markdown",
   "metadata": {},
   "source": [
    "- Algunos de los valores que tenemos están con siglas, y deberéis reemplazarlos por lo siguiente:\n",
    "\n",
    "NV: reemplazalo por Nevada\n",
    "TX: reemplazalo por Texas\n",
    "IN: reemplazalo por Indianapolis\n",
    "CA: reemplazalo por California\n",
    "VA: reemplazalo por Virginia\n",
    "NY: reemplazalo por New York\n",
    "MI: reemplazalo por Michigan\n",
    "GA: reemplazalo por Georgia\n",
    "ND: reemplazalo por North Dakota"
   ]
  },
  {
   "cell_type": "code",
   "execution_count": 19,
   "metadata": {},
   "outputs": [],
   "source": [
    "remplazo_nombre={\"NV\":  \" Nevada\",\n",
    "                \"TX\":  \"Texas\",\n",
    "                \"IN\":  \"Indianapolis\",\n",
    "                \"CA\":  \"California\",\n",
    "                \"VA\":\"Virginia\",\n",
    "                \"NY\": \" New York\",\n",
    "                \"MI\":  \"Michigan\",\n",
    "                \"GA\":  \"Georgia\",\n",
    "                \"ND\":  \"North Dakota\"}"
   ]
  },
  {
   "cell_type": "code",
   "execution_count": 20,
   "metadata": {},
   "outputs": [],
   "source": [
    "df_unis[\"state_province\"].replace(remplazo_nombre, inplace=True)"
   ]
  },
  {
   "cell_type": "code",
   "execution_count": 21,
   "metadata": {},
   "outputs": [
    {
     "data": {
      "text/plain": [
       "array(['Buenos Aires', 'Ciudad Autónoma de Buenos Aires', 'Entre Ríos',\n",
       "       'Salta', 'Córdoba', 'Mendoza', 'Santa Fé', 'Unknow',\n",
       "       'Santiago Del Estero', 'Misiones', 'Catamarca', 'Formosa', 'Jujuy',\n",
       "       'La Rioja', 'La Pampa', 'San Juan', 'San Luis', 'Tucumán',\n",
       "       'Quebec', 'Ontario', 'Nova Scotia', 'British Columbia', 'Alberta',\n",
       "       'Manitoba', 'New Brunswick', 'Saskatchewan',\n",
       "       'Newfoundland and Labrador', 'Prince Edward Island', 'Yukon',\n",
       "       'Pennsylvania', ' Nevada', 'Iowa', 'Virginia', 'Texas', 'Colorado',\n",
       "       'Indianapolis', 'California', 'South Carolina', 'Washington',\n",
       "       ' New York', 'North Dakota', 'Michigan', 'Ohio', 'Florida',\n",
       "       'North Carolina', 'Georgia', 'New York, NY'], dtype=object)"
      ]
     },
     "execution_count": 21,
     "metadata": {},
     "output_type": "execute_result"
    }
   ],
   "source": [
    "df_unis[\"state_province\"].unique()"
   ]
  },
  {
   "attachments": {},
   "cell_type": "markdown",
   "metadata": {},
   "source": [
    "- Otros valores que tenemos más formateados son y que deberemos reemplazar:\n",
    "- New York, NY. Deberéis reemplazarlo por \"New York\".\n",
    "- 'Buenos Aires', 'Ciudad Autónoma de Buenos Aires'. En este caso deberéis poner en ambos casos \"Buenos Aires\""
   ]
  },
  {
   "cell_type": "code",
   "execution_count": 22,
   "metadata": {},
   "outputs": [],
   "source": [
    "remplazo_nuevo={'New York, NY':\"New York\",\n",
    "                \"Buenos Aires\": \"Buenos Aires\",\n",
    "                'Ciudad Autónoma de Buenos Aires': 'Buenos Aires'}"
   ]
  },
  {
   "cell_type": "code",
   "execution_count": 23,
   "metadata": {},
   "outputs": [],
   "source": [
    "df_unis[\"state_province\"].replace(remplazo_nuevo, inplace=True)"
   ]
  },
  {
   "cell_type": "code",
   "execution_count": 24,
   "metadata": {},
   "outputs": [
    {
     "data": {
      "text/plain": [
       "array(['Buenos Aires', 'Entre Ríos', 'Salta', 'Córdoba', 'Mendoza',\n",
       "       'Santa Fé', 'Unknow', 'Santiago Del Estero', 'Misiones',\n",
       "       'Catamarca', 'Formosa', 'Jujuy', 'La Rioja', 'La Pampa',\n",
       "       'San Juan', 'San Luis', 'Tucumán', 'Quebec', 'Ontario',\n",
       "       'Nova Scotia', 'British Columbia', 'Alberta', 'Manitoba',\n",
       "       'New Brunswick', 'Saskatchewan', 'Newfoundland and Labrador',\n",
       "       'Prince Edward Island', 'Yukon', 'Pennsylvania', ' Nevada', 'Iowa',\n",
       "       'Virginia', 'Texas', 'Colorado', 'Indianapolis', 'California',\n",
       "       'South Carolina', 'Washington', ' New York', 'North Dakota',\n",
       "       'Michigan', 'Ohio', 'Florida', 'North Carolina', 'Georgia',\n",
       "       'New York'], dtype=object)"
      ]
     },
     "execution_count": 24,
     "metadata": {},
     "output_type": "execute_result"
    }
   ],
   "source": [
    "df_unis[\"state_province\"].unique()"
   ]
  },
  {
   "attachments": {},
   "cell_type": "markdown",
   "metadata": {},
   "source": [
    "- Una vez realizados los pasos anteriores, crea una lista con los valores únicos de las provincias de las universidades."
   ]
  },
  {
   "cell_type": "code",
   "execution_count": 25,
   "metadata": {},
   "outputs": [
    {
     "data": {
      "text/plain": [
       "['Buenos Aires',\n",
       " 'Entre Ríos',\n",
       " 'Salta',\n",
       " 'Córdoba',\n",
       " 'Mendoza',\n",
       " 'Santa Fé',\n",
       " 'Unknow',\n",
       " 'Santiago Del Estero',\n",
       " 'Misiones',\n",
       " 'Catamarca',\n",
       " 'Formosa',\n",
       " 'Jujuy',\n",
       " 'La Rioja',\n",
       " 'La Pampa',\n",
       " 'San Juan',\n",
       " 'San Luis',\n",
       " 'Tucumán',\n",
       " 'Quebec',\n",
       " 'Ontario',\n",
       " 'Nova Scotia',\n",
       " 'British Columbia',\n",
       " 'Alberta',\n",
       " 'Manitoba',\n",
       " 'New Brunswick',\n",
       " 'Saskatchewan',\n",
       " 'Newfoundland and Labrador',\n",
       " 'Prince Edward Island',\n",
       " 'Yukon',\n",
       " 'Pennsylvania',\n",
       " ' Nevada',\n",
       " 'Iowa',\n",
       " 'Virginia',\n",
       " 'Texas',\n",
       " 'Colorado',\n",
       " 'Indianapolis',\n",
       " 'California',\n",
       " 'South Carolina',\n",
       " 'Washington',\n",
       " ' New York',\n",
       " 'North Dakota',\n",
       " 'Michigan',\n",
       " 'Ohio',\n",
       " 'Florida',\n",
       " 'North Carolina',\n",
       " 'Georgia',\n",
       " 'New York']"
      ]
     },
     "execution_count": 25,
     "metadata": {},
     "output_type": "execute_result"
    }
   ],
   "source": [
    "ubicaciones=list(df_unis[\"state_province\"].unique())\n",
    "ubicaciones"
   ]
  },
  {
   "attachments": {},
   "cell_type": "markdown",
   "metadata": {},
   "source": [
    "-Usando la API de geopy, extraed la latitud y la longitud de cada una de las provincias y almacenad los resultados en un dataframe."
   ]
  },
  {
   "cell_type": "code",
   "execution_count": 26,
   "metadata": {},
   "outputs": [
    {
     "data": {
      "text/plain": [
       "(-34.6075682, -58.4370894)"
      ]
     },
     "execution_count": 26,
     "metadata": {},
     "output_type": "execute_result"
    }
   ],
   "source": [
    "geolocator=Nominatim(user_agent=\"Jacque\")\n",
    "location = geolocator.geocode(\"Buenos Aires\")\n",
    "location[1]"
   ]
  },
  {
   "cell_type": "code",
   "execution_count": 41,
   "metadata": {},
   "outputs": [],
   "source": [
    "def busqueda_geopy(lista):\n",
    "    try:\n",
    "        geolocator=Nominatim(user_agent=\"Jacque\")\n",
    "        location= geolocator.geocode(lista)\n",
    "        return location[1]\n",
    "        print(location)\n",
    "    except:\n",
    "        return np.nan"
   ]
  },
  {
   "cell_type": "code",
   "execution_count": 50,
   "metadata": {},
   "outputs": [],
   "source": [
    "cordenadas=[]\n",
    "provincia=[]\n",
    "\n",
    "\n",
    "for ubicacion in ubicaciones:\n",
    "    cordenadas.append(busqueda_geopy(ubicacion))\n",
    "       \n",
    "    provincia.append(ubicacion)\n",
    "   \n",
    "   "
   ]
  },
  {
   "cell_type": "code",
   "execution_count": 44,
   "metadata": {},
   "outputs": [],
   "source": [
    "df=pd.DataFrame(cordenadas, columns =[\"latitud\", \"longitud\"])\n",
    "df1=pd.DataFrame(provincia, columns=[\"state_province\"])\n",
    "df_entero=pd.concat([df,df1],axis=1)"
   ]
  },
  {
   "cell_type": "code",
   "execution_count": 45,
   "metadata": {},
   "outputs": [
    {
     "data": {
      "text/html": [
       "<div>\n",
       "<style scoped>\n",
       "    .dataframe tbody tr th:only-of-type {\n",
       "        vertical-align: middle;\n",
       "    }\n",
       "\n",
       "    .dataframe tbody tr th {\n",
       "        vertical-align: top;\n",
       "    }\n",
       "\n",
       "    .dataframe thead th {\n",
       "        text-align: right;\n",
       "    }\n",
       "</style>\n",
       "<table border=\"1\" class=\"dataframe\">\n",
       "  <thead>\n",
       "    <tr style=\"text-align: right;\">\n",
       "      <th></th>\n",
       "      <th>state_province</th>\n",
       "    </tr>\n",
       "  </thead>\n",
       "  <tbody>\n",
       "    <tr>\n",
       "      <th>0</th>\n",
       "      <td>Buenos Aires</td>\n",
       "    </tr>\n",
       "    <tr>\n",
       "      <th>1</th>\n",
       "      <td>Entre Ríos</td>\n",
       "    </tr>\n",
       "  </tbody>\n",
       "</table>\n",
       "</div>"
      ],
      "text/plain": [
       "  state_province\n",
       "0   Buenos Aires\n",
       "1     Entre Ríos"
      ]
     },
     "execution_count": 45,
     "metadata": {},
     "output_type": "execute_result"
    }
   ],
   "source": [
    "df1.head(2)"
   ]
  },
  {
   "cell_type": "code",
   "execution_count": 46,
   "metadata": {},
   "outputs": [
    {
     "data": {
      "text/html": [
       "<div>\n",
       "<style scoped>\n",
       "    .dataframe tbody tr th:only-of-type {\n",
       "        vertical-align: middle;\n",
       "    }\n",
       "\n",
       "    .dataframe tbody tr th {\n",
       "        vertical-align: top;\n",
       "    }\n",
       "\n",
       "    .dataframe thead th {\n",
       "        text-align: right;\n",
       "    }\n",
       "</style>\n",
       "<table border=\"1\" class=\"dataframe\">\n",
       "  <thead>\n",
       "    <tr style=\"text-align: right;\">\n",
       "      <th></th>\n",
       "      <th>latitud</th>\n",
       "      <th>longitud</th>\n",
       "      <th>state_province</th>\n",
       "    </tr>\n",
       "  </thead>\n",
       "  <tbody>\n",
       "    <tr>\n",
       "      <th>0</th>\n",
       "      <td>-34.607568</td>\n",
       "      <td>-58.437089</td>\n",
       "      <td>Buenos Aires</td>\n",
       "    </tr>\n",
       "    <tr>\n",
       "      <th>1</th>\n",
       "      <td>-31.625284</td>\n",
       "      <td>-59.353958</td>\n",
       "      <td>Entre Ríos</td>\n",
       "    </tr>\n",
       "    <tr>\n",
       "      <th>2</th>\n",
       "      <td>-25.107670</td>\n",
       "      <td>-64.349496</td>\n",
       "      <td>Salta</td>\n",
       "    </tr>\n",
       "    <tr>\n",
       "      <th>3</th>\n",
       "      <td>37.884581</td>\n",
       "      <td>-4.776014</td>\n",
       "      <td>Córdoba</td>\n",
       "    </tr>\n",
       "    <tr>\n",
       "      <th>4</th>\n",
       "      <td>-34.787093</td>\n",
       "      <td>-68.438187</td>\n",
       "      <td>Mendoza</td>\n",
       "    </tr>\n",
       "  </tbody>\n",
       "</table>\n",
       "</div>"
      ],
      "text/plain": [
       "     latitud   longitud state_province\n",
       "0 -34.607568 -58.437089   Buenos Aires\n",
       "1 -31.625284 -59.353958     Entre Ríos\n",
       "2 -25.107670 -64.349496          Salta\n",
       "3  37.884581  -4.776014        Córdoba\n",
       "4 -34.787093 -68.438187        Mendoza"
      ]
     },
     "execution_count": 46,
     "metadata": {},
     "output_type": "execute_result"
    }
   ],
   "source": [
    "df_entero.head()"
   ]
  },
  {
   "attachments": {},
   "cell_type": "markdown",
   "metadata": {},
   "source": [
    "- Una vez que tengáis los datos del ejercicio anterior en un dataframe, unidlo con el de las universidades que hemos sacado de la API."
   ]
  },
  {
   "cell_type": "code",
   "execution_count": 47,
   "metadata": {},
   "outputs": [
    {
     "data": {
      "text/html": [
       "<div>\n",
       "<style scoped>\n",
       "    .dataframe tbody tr th:only-of-type {\n",
       "        vertical-align: middle;\n",
       "    }\n",
       "\n",
       "    .dataframe tbody tr th {\n",
       "        vertical-align: top;\n",
       "    }\n",
       "\n",
       "    .dataframe thead th {\n",
       "        text-align: right;\n",
       "    }\n",
       "</style>\n",
       "<table border=\"1\" class=\"dataframe\">\n",
       "  <thead>\n",
       "    <tr style=\"text-align: right;\">\n",
       "      <th></th>\n",
       "      <th>state_province</th>\n",
       "      <th>name</th>\n",
       "      <th>country</th>\n",
       "      <th>web_pages</th>\n",
       "      <th>alpha_two_code</th>\n",
       "      <th>latitud</th>\n",
       "      <th>longitud</th>\n",
       "    </tr>\n",
       "  </thead>\n",
       "  <tbody>\n",
       "    <tr>\n",
       "      <th>0</th>\n",
       "      <td>Buenos Aires</td>\n",
       "      <td>Universidad Atlantida Argentina</td>\n",
       "      <td>Argentina</td>\n",
       "      <td>http://www.atlantida.edu.ar/</td>\n",
       "      <td>AR</td>\n",
       "      <td>-34.607568</td>\n",
       "      <td>-58.437089</td>\n",
       "    </tr>\n",
       "    <tr>\n",
       "      <th>1</th>\n",
       "      <td>Buenos Aires</td>\n",
       "      <td>Universidad Austral Buenos Aires</td>\n",
       "      <td>Argentina</td>\n",
       "      <td>http://www.austral.edu.ar/</td>\n",
       "      <td>AR</td>\n",
       "      <td>-34.607568</td>\n",
       "      <td>-58.437089</td>\n",
       "    </tr>\n",
       "    <tr>\n",
       "      <th>2</th>\n",
       "      <td>Buenos Aires</td>\n",
       "      <td>Universidad CAECE, Buenos Aires</td>\n",
       "      <td>Argentina</td>\n",
       "      <td>http://www.caece.edu.ar/</td>\n",
       "      <td>AR</td>\n",
       "      <td>-34.607568</td>\n",
       "      <td>-58.437089</td>\n",
       "    </tr>\n",
       "    <tr>\n",
       "      <th>3</th>\n",
       "      <td>Buenos Aires</td>\n",
       "      <td>Instituto Universitario CEMA</td>\n",
       "      <td>Argentina</td>\n",
       "      <td>http://www.cema.edu.ar/</td>\n",
       "      <td>AR</td>\n",
       "      <td>-34.607568</td>\n",
       "      <td>-58.437089</td>\n",
       "    </tr>\n",
       "    <tr>\n",
       "      <th>4</th>\n",
       "      <td>Buenos Aires</td>\n",
       "      <td>Instituto de Enseñanza Superior del Ejército</td>\n",
       "      <td>Argentina</td>\n",
       "      <td>http://www.iese.edu.ar/</td>\n",
       "      <td>AR</td>\n",
       "      <td>-34.607568</td>\n",
       "      <td>-58.437089</td>\n",
       "    </tr>\n",
       "    <tr>\n",
       "      <th>...</th>\n",
       "      <td>...</td>\n",
       "      <td>...</td>\n",
       "      <td>...</td>\n",
       "      <td>...</td>\n",
       "      <td>...</td>\n",
       "      <td>...</td>\n",
       "      <td>...</td>\n",
       "    </tr>\n",
       "    <tr>\n",
       "      <th>2502</th>\n",
       "      <td>Georgia</td>\n",
       "      <td>Morehouse</td>\n",
       "      <td>United States</td>\n",
       "      <td>https://morehouse.edu/</td>\n",
       "      <td>US</td>\n",
       "      <td>32.329381</td>\n",
       "      <td>-83.113737</td>\n",
       "    </tr>\n",
       "    <tr>\n",
       "      <th>2503</th>\n",
       "      <td>New York</td>\n",
       "      <td>CUNY Lehman College</td>\n",
       "      <td>United States</td>\n",
       "      <td>https://www.lehman.cuny.edu/</td>\n",
       "      <td>US</td>\n",
       "      <td>40.712728</td>\n",
       "      <td>-74.006015</td>\n",
       "    </tr>\n",
       "    <tr>\n",
       "      <th>2504</th>\n",
       "      <td>New York</td>\n",
       "      <td>CUNY John Jay College of Criminal Justice</td>\n",
       "      <td>United States</td>\n",
       "      <td>https://www.jjay.cuny.edu/</td>\n",
       "      <td>US</td>\n",
       "      <td>40.712728</td>\n",
       "      <td>-74.006015</td>\n",
       "    </tr>\n",
       "    <tr>\n",
       "      <th>2505</th>\n",
       "      <td>New York</td>\n",
       "      <td>CUNY Hunter College</td>\n",
       "      <td>United States</td>\n",
       "      <td>https://hunter.cuny.edu/</td>\n",
       "      <td>US</td>\n",
       "      <td>40.712728</td>\n",
       "      <td>-74.006015</td>\n",
       "    </tr>\n",
       "    <tr>\n",
       "      <th>2506</th>\n",
       "      <td>New York</td>\n",
       "      <td>CUNY York College</td>\n",
       "      <td>United States</td>\n",
       "      <td>https://www.york.cuny.edu/</td>\n",
       "      <td>US</td>\n",
       "      <td>40.712728</td>\n",
       "      <td>-74.006015</td>\n",
       "    </tr>\n",
       "  </tbody>\n",
       "</table>\n",
       "<p>2507 rows × 7 columns</p>\n",
       "</div>"
      ],
      "text/plain": [
       "     state_province                                          name  \\\n",
       "0      Buenos Aires               Universidad Atlantida Argentina   \n",
       "1      Buenos Aires              Universidad Austral Buenos Aires   \n",
       "2      Buenos Aires               Universidad CAECE, Buenos Aires   \n",
       "3      Buenos Aires                  Instituto Universitario CEMA   \n",
       "4      Buenos Aires  Instituto de Enseñanza Superior del Ejército   \n",
       "...             ...                                           ...   \n",
       "2502        Georgia                                     Morehouse   \n",
       "2503       New York                           CUNY Lehman College   \n",
       "2504       New York     CUNY John Jay College of Criminal Justice   \n",
       "2505       New York                           CUNY Hunter College   \n",
       "2506       New York                             CUNY York College   \n",
       "\n",
       "            country                     web_pages alpha_two_code    latitud  \\\n",
       "0         Argentina  http://www.atlantida.edu.ar/             AR -34.607568   \n",
       "1         Argentina    http://www.austral.edu.ar/             AR -34.607568   \n",
       "2         Argentina      http://www.caece.edu.ar/             AR -34.607568   \n",
       "3         Argentina       http://www.cema.edu.ar/             AR -34.607568   \n",
       "4         Argentina       http://www.iese.edu.ar/             AR -34.607568   \n",
       "...             ...                           ...            ...        ...   \n",
       "2502  United States        https://morehouse.edu/             US  32.329381   \n",
       "2503  United States  https://www.lehman.cuny.edu/             US  40.712728   \n",
       "2504  United States    https://www.jjay.cuny.edu/             US  40.712728   \n",
       "2505  United States      https://hunter.cuny.edu/             US  40.712728   \n",
       "2506  United States    https://www.york.cuny.edu/             US  40.712728   \n",
       "\n",
       "       longitud  \n",
       "0    -58.437089  \n",
       "1    -58.437089  \n",
       "2    -58.437089  \n",
       "3    -58.437089  \n",
       "4    -58.437089  \n",
       "...         ...  \n",
       "2502 -83.113737  \n",
       "2503 -74.006015  \n",
       "2504 -74.006015  \n",
       "2505 -74.006015  \n",
       "2506 -74.006015  \n",
       "\n",
       "[2507 rows x 7 columns]"
      ]
     },
     "execution_count": 47,
     "metadata": {},
     "output_type": "execute_result"
    }
   ],
   "source": [
    "df_definitivo=df_unis.merge(df_entero, on=\"state_province\")\n",
    "df_definitivo"
   ]
  },
  {
   "cell_type": "code",
   "execution_count": 48,
   "metadata": {},
   "outputs": [],
   "source": [
    "df_definitivo.to_pickle(\"datos/datos_unis.pickle\")"
   ]
  },
  {
   "cell_type": "markdown",
   "metadata": {},
   "source": [
    "8. Crea una BBDD en mysql que contenga las siguientes tablas:\n",
    "- idestado: primary key, integer, autoincremental\n",
    "   - nombre_pais: varchar\n",
    "   - nombre_provincia: varchar\n",
    "   - latitud: decimal\n",
    "   - longitud: decimal\n",
    "- tabla universidades: donde encontramos las siguientes columnas:\n",
    "   - iduniversidades: primary key, integer, autoincremental\n",
    "   - nombre_universidad: varchar\n",
    "   - pagina_web: varchar\n",
    "   - paises_idestado: foreing key   \n",
    "\n"
   ]
  },
  {
   "attachments": {},
   "cell_type": "markdown",
   "metadata": {},
   "source": [
    "9. Introduce todo el código que habéis ido creando en funciones, siguiendo la misma lógica que hemos seguido en los pairs"
   ]
  },
  {
   "attachments": {},
   "cell_type": "markdown",
   "metadata": {},
   "source": [
    "1 creación de la clase"
   ]
  },
  {
   "attachments": {},
   "cell_type": "markdown",
   "metadata": {},
   "source": [
    "1 definicion de la variable"
   ]
  },
  {
   "cell_type": "code",
   "execution_count": 33,
   "metadata": {},
   "outputs": [],
   "source": [
    "\n",
    "tabla_pais = \"\"\"\n",
    "\n",
    "CREATE TABLE IF NOT EXISTS `mydb`.`paises` (\n",
    "  `idpaisesididestado` INT NOT NULL AUTO_INCREMENT,\n",
    "  `nombre_pais:` VARCHAR(45) NULL,\n",
    "  `nombre_provincia` VARCHAR(45) NULL,\n",
    "  `latitud` DECIMAL NULL,\n",
    "  `Longitud` DECIMAL NULL,\n",
    "  PRIMARY KEY (`idpaisesididestado`))\n",
    "ENGINE = InnoDB;\"\"\"\n",
    "\n",
    "tabla_universidades = \"\"\"\n",
    "\n",
    "CREATE TABLE IF NOT EXISTS `mydb`.`universidades` (\n",
    "  `iduniversidades` INT NOT NULL AUTO_INCREMENT,\n",
    "  `nombre_universidad` VARCHAR(45) NULL,\n",
    "  `pagina_web` VARCHAR(45) NULL,\n",
    "  `paises_idestado` INT NOT NULL,\n",
    "  PRIMARY KEY (`iduniversidades`),\n",
    "  INDEX `fk_universidades_paises_idx` (`paises_idestado` ASC) VISIBLE,\n",
    "  CONSTRAINT `fk_universidades_paises`\n",
    "    FOREIGN KEY (`paises_idestado`)\n",
    "    REFERENCES `mydb`.`paises` (`idpaisesididestado`)\n",
    "    ON DELETE NO ACTION\n",
    "    ON UPDATE NO ACTION)\n",
    "ENGINE = InnoDB;\"\"\"\n",
    "\n",
    "\n"
   ]
  },
  {
   "cell_type": "code",
   "execution_count": 34,
   "metadata": {},
   "outputs": [],
   "source": [
    "class cargarbbdd:\n",
    "    \n",
    "    def __init__(self, nombre_bbdd, contraseña):\n",
    "        \n",
    "        self.nombre_bbdd = nombre_bbdd\n",
    "        self.contraseña = contraseña\n",
    "       \n",
    "\n",
    "    def creacion_bbdd(self):\n",
    "\n",
    "        mydb = mysql.connector.connect(host=\"localhost\",\n",
    "                                        user=\"root\",\n",
    "                                        password=f'{self.contraseña}')\n",
    "                                       \n",
    "        mycursor = mydb.cursor()\n",
    "        print(\"conexión realizada\")\n",
    "\n",
    "        try:\n",
    "            mycursor.execute(f\"CREATE DATABASE IF NOT EXISTS {self.nombre_bbdd};\")\n",
    "            print(mycursor)\n",
    "        except mysql.connector.Error as err:\n",
    "            print(err)\n",
    "            print(\"Error Code:\", err.errno)\n",
    "            print(\"SQLSTATE\", err.sqlstate)\n",
    "            print(\"Message\", err.msg)\n",
    "\n",
    "\n",
    "\n",
    "    def crear_insertar_tabla(self,query):\n",
    "    \n",
    "        mydb = mysql.connector.connect(user='root', password=f\"{self.contraseña}\",\n",
    "                                        host='localhost', database=f\"{self.nombre_bbdd}\") \n",
    "                                        \n",
    "\n",
    "        mycursor = mydb.cursor()\n",
    "        \n",
    "        try: \n",
    "            mycursor.execute(query)\n",
    "            mydb.commit() \n",
    "\n",
    "        except mysql.connector.Error as err:\n",
    "            print(err)\n",
    "            print(\"Error Code:\", err.errno)\n",
    "            print(\"SQLSTATE\", err.sqlstate)\n",
    "            print(\"Message\", err.msg)"
   ]
  },
  {
   "attachments": {},
   "cell_type": "markdown",
   "metadata": {},
   "source": [
    "1 llamada a la clase"
   ]
  },
  {
   "cell_type": "code",
   "execution_count": 35,
   "metadata": {},
   "outputs": [],
   "source": [
    "bbdd = cargarbbdd(\"Universidades\", \"AlumnaAdalab\")"
   ]
  },
  {
   "cell_type": "code",
   "execution_count": 36,
   "metadata": {},
   "outputs": [
    {
     "data": {
      "text/plain": [
       "<__main__.cargarbbdd at 0x7f1d8d84ec10>"
      ]
     },
     "execution_count": 36,
     "metadata": {},
     "output_type": "execute_result"
    }
   ],
   "source": [
    "bbdd\n",
    "\n"
   ]
  },
  {
   "cell_type": "code",
   "execution_count": 37,
   "metadata": {},
   "outputs": [
    {
     "name": "stdout",
     "output_type": "stream",
     "text": [
      "conexión realizada\n",
      "CMySQLCursor: CREATE DATABASE IF NOT EXISTS Universida..\n"
     ]
    }
   ],
   "source": [
    "\n",
    "\n",
    "bbdd.creacion_bbdd()\n",
    "\n"
   ]
  },
  {
   "cell_type": "code",
   "execution_count": 38,
   "metadata": {},
   "outputs": [
    {
     "ename": "AttributeError",
     "evalue": "'cargarbbdd' object has no attribute 'creacion_insercion_tabla'",
     "output_type": "error",
     "traceback": [
      "\u001b[0;31m---------------------------------------------------------------------------\u001b[0m",
      "\u001b[0;31mAttributeError\u001b[0m                            Traceback (most recent call last)",
      "\u001b[0;32m/tmp/ipykernel_17009/1438348011.py\u001b[0m in \u001b[0;36m<module>\u001b[0;34m\u001b[0m\n\u001b[0;32m----> 1\u001b[0;31m \u001b[0mbbdd\u001b[0m\u001b[0;34m.\u001b[0m\u001b[0mcreacion_insercion_tabla\u001b[0m\u001b[0;34m(\u001b[0m\u001b[0mtabla_pais\u001b[0m\u001b[0;34m)\u001b[0m\u001b[0;34m\u001b[0m\u001b[0;34m\u001b[0m\u001b[0m\n\u001b[0m\u001b[1;32m      2\u001b[0m \u001b[0mbbdd\u001b[0m\u001b[0;34m.\u001b[0m\u001b[0mcreacion_insercion_tabla\u001b[0m\u001b[0;34m(\u001b[0m\u001b[0mtabla_universidades\u001b[0m\u001b[0;34m)\u001b[0m\u001b[0;34m\u001b[0m\u001b[0;34m\u001b[0m\u001b[0m\n\u001b[1;32m      3\u001b[0m \u001b[0;34m\u001b[0m\u001b[0m\n\u001b[1;32m      4\u001b[0m \u001b[0;34m\u001b[0m\u001b[0m\n\u001b[1;32m      5\u001b[0m \u001b[0;34m\u001b[0m\u001b[0m\n",
      "\u001b[0;31mAttributeError\u001b[0m: 'cargarbbdd' object has no attribute 'creacion_insercion_tabla'"
     ]
    }
   ],
   "source": [
    "\n",
    "\n",
    "bbdd.creacion_insercion_tabla(tabla_pais)\n",
    "bbdd.creacion_insercion_tabla(tabla_universidades)\n",
    "\n",
    "\n",
    "\n"
   ]
  }
 ],
 "metadata": {
  "kernelspec": {
   "display_name": "adalabenv",
   "language": "python",
   "name": "python3"
  },
  "language_info": {
   "codemirror_mode": {
    "name": "ipython",
    "version": 3
   },
   "file_extension": ".py",
   "mimetype": "text/x-python",
   "name": "python",
   "nbconvert_exporter": "python",
   "pygments_lexer": "ipython3",
   "version": "3.9.7"
  },
  "orig_nbformat": 4
 },
 "nbformat": 4,
 "nbformat_minor": 2
}
